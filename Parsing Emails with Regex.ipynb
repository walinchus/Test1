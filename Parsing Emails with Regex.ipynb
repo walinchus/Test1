{
 "cells": [
  {
   "cell_type": "code",
   "execution_count": 1,
   "metadata": {},
   "outputs": [],
   "source": [
    "import re"
   ]
  },
  {
   "cell_type": "code",
   "execution_count": 3,
   "metadata": {},
   "outputs": [],
   "source": [
    "from sys import argv"
   ]
  },
  {
   "cell_type": "code",
   "execution_count": 20,
   "metadata": {},
   "outputs": [
    {
     "name": "stdout",
     "output_type": "stream",
     "text": [
      "[]\n"
     ]
    }
   ],
   "source": [
    "with open (\"FoundationEmails3.txt\", \"r\") as myfile:\n",
    "    data=myfile.readlines()\n",
    "    print (data)\n",
    "    #lst = re.findall('\\S+@\\S+', data)\n",
    "    #print(lst)"
   ]
  },
  {
   "cell_type": "code",
   "execution_count": 23,
   "metadata": {},
   "outputs": [
    {
     "name": "stdout",
     "output_type": "stream",
     "text": [
      "\n"
     ]
    }
   ],
   "source": [
    "str = open('FoundationEmails3.txt', 'r').read()\n",
    "print (str)"
   ]
  },
  {
   "cell_type": "code",
   "execution_count": 22,
   "metadata": {},
   "outputs": [
    {
     "name": "stdout",
     "output_type": "stream",
     "text": [
      "[]\n"
     ]
    }
   ],
   "source": [
    "lst = re.findall('\\S+@\\S+', str)     \n",
    "  \n",
    "# Printing of List \n",
    "print(lst) "
   ]
  },
  {
   "cell_type": "code",
   "execution_count": 26,
   "metadata": {},
   "outputs": [
    {
     "name": "stdout",
     "output_type": "stream",
     "text": [
      "contactus@<b>columbusfoundation</b>.<b>org</b>.\n",
      "contactus@<b>columbusfoundation</b>.<b>org</b>.\n",
      "generations.project@promedica.<b>org</b>.</span><br></div></div><div\n",
      "COAPatientPortal@childrensal.<b>org</b><br>\n",
      "Gary@<br>\n",
      "info@jcfcleve.<b>org</b></span><br><div\n",
      "info@jcfcleve.<b>org</b>.</span><br></div></div><div\n",
      "info@jcfcleve.<b>org</b>.</span><br></div></div><div\n",
      "info@jcfcleve.<br>\n",
      "info@jcfcleve.<br>\n",
      "info@jcfcleve.<br>\n",
      "info@jcfcleve.<br>\n",
      "info@jcfcleve.<br>\n",
      "info@uwcentralohio.<b>org</b>\n",
      "(@UWCO)\n",
      "(@UWCO).\n",
      "customerservice@uhccf.<br>\n",
      "tsasson@mandelfoundation.<b>org</b>.\n",
      "jbakerstull@csb.<b>org</b>.</span><br></div></div><div\n",
      "kristian.tucker@ymcacolumbus.<b>org</b>.</span><br></div></div><div\n",
      "LBrandsFoundation@ColumbusFoundation.<b>org</b>.</span><br></div></div><div\n",
      "LimitedBrandsFdn@columbusfoundation.<b>org</b>.\n",
      "(@<b>bigten</b>)\n",
      "(@<b>bigten</b>).\n",
      "questions@<b>vanguardcharitable</b>.<b>org</b>\n",
      "donorservice@<b>vanguardcharitable</b>.<b>org</b>.\n",
      "financialadvisors@<b>vanguardcharitable</b>.<b>org</b>\n",
      "privatefoundations@<br>\n",
      "info@<b>mathilefamilyfoundation</b>.<b>org</b><br>\n",
      "ask@<b>schwabcharitable</b>.<b>org</b>.\n",
      "gaye.martin@promedica.<b>org</b>.</span><br></div></div><div\n",
      "hcoontz@stllc.<b>org</b>.</span><br></div></div><div\n",
      "scalk@aekfoundation.<b>org</b>.\n",
      "vbroer@bdmorganfdn.<b>org</b>.</span><br></div></div><div\n",
      "jpetures@akroncf.<b>org</b>.</span><br></div></div><div\n",
      "mmedzie1@akroncf.<b>org</b>.</span><br></div></div><div\n",
      "(@<b>knightfdn</b>)\n",
      "(@knightfdn).\n",
      "(gdotson@bdmorganfdn.<b>org</b>)\n",
      "admin@bdmorganfdn.<b>org</b>\n",
      "HumanResources@mellon.<b>org</b>.</span><br></div></div><div\n",
      "fluxxusers@mellon.<b>org</b>\n",
      "class=\"st\">sc@<b>mellon</b>.<b>org</b>.\n",
      "djw@<b>mellon</b>.<b>org</b>\n",
      "(@<b>UnitedWaySummit</b>)\n",
      "(@UnitedWaySummit).\n",
      "Hogan@americanbar.<br>\n",
      "<b>heritage</b>@ohf-<br>\n",
      "<b>heritage</b>@<br>\n",
      "membership@columbus.<b>org</b>\n",
      "grants@<b>womensfoundation</b>.<b>org</b>\n",
      "grantsinfo@globalfundforwomen.<b>org</b>&nbsp;...</span><br></div></div><div\n",
      "allison@nhwomensfoundation.<b>org</b>\n",
      "pme@kesmithfoundation.<br>\n",
      "pme@kesmithfoundation.<b>org</b>.\n",
      "kWhitsett@GundFdn.<b>org</b>\n",
      "rlynall@uga.edu;\n",
      "bridget@fowlerfamilyfdn.<b>org</b>\n",
      "bridget@<b>fowlerfamilyfdn</b>.<b>org</b>.\n",
      "Grants@fowlerfamilyfdn.<b>org</b>;\n",
      "info@firstdescents.<b>org</b>.\n",
      "Info@<b>HamiltonFoundation</b>.<b>org</b>\n",
      "Info@HamiltonFoundation.<b>org</b>\n",
      "kbraswell@hamiltonfoundation.<b>org</b>.</span><br></div></div><div\n",
      "(@YouthBizForum)\n",
      "(@YouthBizForum).\n",
      "cbailie@<b>vealefound</b>.<b>org</b>.</span><br></div></div><div\n",
      "gestar@iie.<br>\n",
      "<b>ge</b>-reagan@<br>\n",
      "pmcfadden@ysufoundation.<b>org</b>.</span><br></div></div><div\n",
      "pmcfadden@ysufoundation.<br>\n",
      "paul@mcdonaldfoundation.<br>\n",
      "mlhaberman@<b>aep</b>.com.\n",
      "jgoldstein@gcac.<b>org</b>.\n",
      "info@reinbergerfoundation.<b>org</b>.</span><br></div></div><div\n",
      "info@reinbergerfoundation.<b>org</b>\n",
      "info@reinbergerfoundation.<b>org</b>&nbsp;...</span><br></div></div><div\n",
      "senglander@​jfedcin.​<b>org</b>.\n",
      "amysol@nextgenerationfocus.<b>org</b>.</span><br></div></div></ol></div></div></div></div><div\n",
      "USALEEP@urban.<b>org</b>\n",
      "resume@<b>rwjf</b>.<br>\n",
      "creativerequests@<b>rwjf</b>.<b>org</b>\n",
      "info@<b>corbettfoundation</b>.<b>org</b>&nbsp;...</span><br></div></div><div\n",
      "jobs@<b>corbettfoundation</b>.<b>org</b>&nbsp;...</span><br></div></div><div\n",
      "scholarships@starkcf.<b>org</b>\n",
      "story@starkcf.<b>org</b>\n",
      "bneisel@<br>\n",
      "scholarships@starkcf.<b>org</b>\n",
      "marjorie.frank@cwfc.<b>org</b>.</span><br></div></div><div\n",
      "info@<br>\n",
      "peter.schindler@cwfc.<b>org</b></span><br></div></div><div\n",
      "pat.kubene@cwfc.<b>org</b>.</span><br></div></div><div\n",
      "afinfo@<b>ariel</b>-<b>foundation</b>.<b>org</b>.\n",
      "afinfo@<b>ariel</b>-<b>foundation</b>.<b>org</b>.</span><br></div></div><div\n",
      "afinfo@<b>ariel</b>-<b>foundation</b>.<b>org</b>.</span><br></div></div><div\n",
      "reservations@<b>arielfoundationpark</b><br>\n",
      "reservations@<b>arielfoundationpark</b>.<b>org</b></span><br></div></div><div\n",
      "info@<b>arielfoundation</b>.<b>org</b>.\n",
      "style=\"margin-bottom:2px\"><cite>www.<b>eaton</b>.com/ecm/groups/public/@pub/@<b>eaton</b>/.../98065570.pdf</cite><div\n",
      "class=\"st\">web@some.<b>org</b>\n",
      "(@<b>BIGEAST</b>)\n",
      "(@<b>BIGEAST</b>).\n",
      "info@jfedcin.<b>org</b>.\n",
      "info@jfedcin.<b>org</b>.\n",
      "dmcbeth@jfedcin.<b>org</b>.</span><br></div></div><div\n",
      "dminson@jfedcin.<b>org</b>.\n",
      "midwest@​afhu.​<b>org</b>\n",
      "sean.dougherty@education-at-work.<b>org</b></span><br></div></div><div\n",
      "bapcjobs@<b>beechacres</b>.<b>org</b>.</span><br></div></div><div\n",
      "mlongoba@monroe2boces.<br>\n",
      "rdavila@unitedwaycleveland.<b>org</b>.</span><br></div></div><div\n",
      "media@<b>kresge</b>.<b>org</b>.</span><br></div></div><div\n",
      "Talent@<b>Kresge</b>.<br>\n",
      "media@<b>kresge</b>.<b>org</b>.</span><br></div></div><div\n",
      "communications@lei.<b>org</b>.\n",
      "info@<b>huntingtonccf</b>.<br>\n",
      "info@tlltf.<b>org</b>.</span><br></div></div><div\n",
      "info@philanthropysouthwest.<b>org</b>.</span><br></div></div><div\n",
      "communications@carnegie.<br>\n",
      "charmon@columbusfoundation.<b>org</b>,\n",
      "Info@cascadehc.<b>org</b></span><br></div></div><div\n",
      "Info@cascadehc.<b>org</b>.\n",
      "sraymond@cascadehc.<b>org</b>&nbsp;...</span><br></div></div></ol></div></div></div></div><div\n",
      "class=\"st\">anthonyrichardson@nordff.<b>org</b>.\n",
      "annkiernozek@nordff.<br>\n",
      "laureldiaz@nordff.<b>org</b>.</span><br></div></div><div\n",
      "anthonyrichardson@nordff.<b>org</b>.\n",
      "lrand@<b>deaconessfdn</b>.<b>org</b>\n",
      "(@<b>deaconessfound</b>)\n",
      "(@deaconessfound).\n",
      "jobs@arnoldfoundation.<b>org</b>.</span><br></div></div><div\n",
      "shari@trekkers.<b>org</b>.\n",
      "support@<b>harringtonfamilyfoundation</b>.<b>org</b>.\n",
      "support@<b>harringtonfamilyfoundation</b><br>\n",
      "ethomas@healthcareaccessnow.<b>org</b>\n",
      "(@<b>unitedwaytoledo</b>)\n",
      "(@unitedwaytoledo).\n",
      "emily.avery@unitedwaytoledo.<b>org</b>.\n",
      "info@claimscon.<b>org</b></span><br></div></div><div\n",
      "jobs@claimscon.<b>org</b>\n",
      "office-of-communications@<b>fordfoundation</b>.<b>org</b>.\n",
      "d.kaimowitz@<br>\n",
      "(@<b>FordFoundation</b>)\n",
      "(@<b>FordFoundation</b>).\n",
      "kelly.hendricks@casealum.<b>org</b>&nbsp;...</span><br><div\n",
      "stephen.zinram@casealum.<b>org</b>\n",
      ".speer@casealum.<b>org</b>.\n",
      "racheal.seibert@casealum.<b>org</b>\n",
      "ryan.strine@casealum.<b>org</b>\n",
      "janna.greer@casealum.<b>org</b>\n",
      "kelly.hendricks@casealum.<b>org</b>\n",
      "info@thefundneo.<b>org</b>&nbsp;...</span><br><div\n",
      "info@thefundneo.<b>org</b><br>\n",
      "info@thefundneo.<b>org</b>&nbsp;...</span><br></div></div><div\n",
      "info@thefundneo.<b>org</b>&nbsp;...</span><br></div></div><div\n",
      "info@thefundneo.<b>org</b>.\n",
      "info@thefundneo.<b>org</b>&nbsp;...</span><br></div></div><div\n",
      "info@thefundneo.<b>org</b>&nbsp;...</span><br></div></div><div\n",
      "info@thefundneo.<b>org</b>&nbsp;...</span><br></div></div><div\n",
      "info@<br>\n",
      "info@thefundneo.<b>org</b>&nbsp;...</span><br></div></div></ol></div></div></div></div><div\n",
      "contact@oaf.org.au\n"
     ]
    }
   ],
   "source": [
    "ptr = r'\\S+@\\S+'\n",
    "\n",
    "with open('FoundationEmails3.txt', 'r') as file:\n",
    "    for line in file:\n",
    "        for match in re.finditer(ptr, line):\n",
    "            print(match.group())\n",
    "\n"
   ]
  },
  {
   "cell_type": "code",
   "execution_count": null,
   "metadata": {},
   "outputs": [],
   "source": []
  }
 ],
 "metadata": {
  "kernelspec": {
   "display_name": "Python 3",
   "language": "python",
   "name": "python3"
  },
  "language_info": {
   "codemirror_mode": {
    "name": "ipython",
    "version": 3
   },
   "file_extension": ".py",
   "mimetype": "text/x-python",
   "name": "python",
   "nbconvert_exporter": "python",
   "pygments_lexer": "ipython3",
   "version": "3.6.4"
  }
 },
 "nbformat": 4,
 "nbformat_minor": 2
}
